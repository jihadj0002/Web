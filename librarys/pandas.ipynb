{
 "cells": [
  {
   "cell_type": "code",
   "execution_count": null,
   "metadata": {},
   "outputs": [],
   "source": [
    "import pandas as pd\n",
    "\n",
    "df = pd.read_csv('001.csv')\n",
    "data = pd.DataFrame(df)\n",
    "\n",
    "print(data.to_string())"
   ]
  },
  {
   "cell_type": "code",
   "execution_count": null,
   "metadata": {},
   "outputs": [],
   "source": [
    "import pandas as pd\n",
    "\n",
    "#Showing how to use datasets\n",
    "myDataset = {\n",
    "    'cars': [\"BMW\", \"Volvo\", \"Ford\"],\n",
    "    'passing': [3, 7, 2],\n",
    "}\n",
    "\n",
    "myvar = pd.DataFrame(myDataset)\n",
    "\n",
    "print(myvar)\n"
   ]
  },
  {
   "cell_type": "code",
   "execution_count": 13,
   "metadata": {},
   "outputs": [
    {
     "name": "stdout",
     "output_type": "stream",
     "text": [
      "7\n"
     ]
    }
   ],
   "source": [
    "import pandas as pd\n",
    "\n",
    "#Series is like a column of a table\n",
    "#A one dimentional array holding data of any type\n",
    "\n",
    "a = [1, 7, 2]\n",
    "\n",
    "myVar = pd.Series(a)\n",
    "\n",
    "print(myVar[1])"
   ]
  },
  {
   "cell_type": "code",
   "execution_count": 19,
   "metadata": {},
   "outputs": [
    {
     "name": "stdout",
     "output_type": "stream",
     "text": [
      "x    1\n",
      "y    2\n",
      "z    6\n",
      "dtype: int64\n",
      "6\n"
     ]
    }
   ],
   "source": [
    "import pandas as pd\n",
    "\n",
    "data = [1,2,6]\n",
    "labels = [\"x\", \"y\", \"z\"]\n",
    "# Series Create with labels\n",
    "\n",
    "myVar = pd.Series(data, labels)\n",
    "\n",
    "print(myVar)\n",
    "\n",
    "#Or access them my labels\n",
    "print(myVar['z'])"
   ]
  },
  {
   "cell_type": "code",
   "execution_count": 20,
   "metadata": {},
   "outputs": [
    {
     "name": "stdout",
     "output_type": "stream",
     "text": [
      "day1    420\n",
      "day2    350\n",
      "day3    550\n",
      "dtype: int64\n"
     ]
    }
   ],
   "source": [
    "import pandas as pd\n",
    "\n",
    "calories = {\"day1\": 420, \"day2\": 350, \"day3\": 550}\n",
    "\n",
    "myVar = pd.Series(calories)\n",
    "\n",
    "print(myVar)"
   ]
  },
  {
   "cell_type": "code",
   "execution_count": null,
   "metadata": {},
   "outputs": [
    {
     "name": "stdout",
     "output_type": "stream",
     "text": [
      "day1    440\n",
      "day3    440\n",
      "dtype: int64\n"
     ]
    }
   ],
   "source": [
    "import pandas as pd\n",
    "\n",
    "#Print Only Selected labels\n",
    "calories = {\"day1\": 440, \"day2\": 340,\"day3\":440 }\n",
    "\n",
    "myVar = pd.Series(calories, index=[\"day1\", \"day3\"])\n",
    "\n",
    "print(myVar)"
   ]
  },
  {
   "cell_type": "code",
   "execution_count": 22,
   "metadata": {},
   "outputs": [
    {
     "name": "stdout",
     "output_type": "stream",
     "text": [
      "   calorie  duration\n",
      "0      420       240\n",
      "1      335       120\n",
      "2      550       330\n"
     ]
    }
   ],
   "source": [
    "import pandas as pd\n",
    "\n",
    "#Data Sets such as multi dimentional tables\n",
    "\n",
    "data = {\n",
    "    \"calorie\": [420, 335, 550],\n",
    "    \"duration\": [240, 120, 330],\n",
    "    \n",
    "}\n",
    "\n",
    "myVar = pd.DataFrame(data)\n",
    "\n",
    "print(myVar)"
   ]
  },
  {
   "cell_type": "code",
   "execution_count": 37,
   "metadata": {},
   "outputs": [
    {
     "name": "stdout",
     "output_type": "stream",
     "text": [
      "name        Ahamed\n",
      "calorie        440\n",
      "duration       200\n",
      "Name: 1, dtype: object\n",
      "\n",
      "\n",
      "      name  calorie  duration\n",
      "0  Jubayer      320       100\n",
      "1   Ahamed      440       200\n"
     ]
    }
   ],
   "source": [
    "import pandas as pd\n",
    "\n",
    "#Dataframe is like a 2d or 3d 4d arrays\n",
    "\n",
    "data = {\n",
    "    \"name\":[\"Jubayer\", \"Ahamed\", \"Jihad\"],\n",
    "    \"calorie\": [320, 440, 550],\n",
    "    \"duration\": [100, 200, 300],\n",
    "}\n",
    "\n",
    "df = pd.DataFrame(data)\n",
    "\n",
    "#print(df)\n",
    "\n",
    "#To Locate a single row\n",
    "print(df.loc[1])\n",
    "print(\"\\n\")\n",
    "#Locate multi rows\n",
    "print(df.loc[[0,1]])\n",
    "#It will print a row "
   ]
  },
  {
   "cell_type": "code",
   "execution_count": 40,
   "metadata": {},
   "outputs": [
    {
     "name": "stdout",
     "output_type": "stream",
     "text": [
      "                                                  Links      Status Data  \\\n",
      "0     https://www.instagram.com/reel/DErmHi1MVV4/?ut...  Downloaded  NaN   \n",
      "1     https://www.instagram.com/reel/DElJZ51zwfl/?ut...   Completed    1   \n",
      "2              https://www.instagram.com/p/DCCDGRvSNzY/   Completed    2   \n",
      "3              https://www.instagram.com/p/DDeW3WbBQO4/   Completed    3   \n",
      "4              https://www.instagram.com/p/DDHtBDjIKBq/   Completed    4   \n",
      "...                                                 ...         ...  ...   \n",
      "1011                                                NaN         NaN  NaN   \n",
      "1012                                                NaN         NaN  NaN   \n",
      "1013                                                NaN         NaN  NaN   \n",
      "1014                                                NaN         NaN  NaN   \n",
      "1015                                                NaN         NaN  NaN   \n",
      "\n",
      "                Due date  Content Done? HashTags       Stage  Notes  \n",
      "0      1/13/2025 0:00:00          False      NaN   Pre-event    NaN  \n",
      "1      1/15/2025 0:05:30          False      NaN      Day of    NaN  \n",
      "2     1/15/2025 19:30:00          False      NaN  Post-event    NaN  \n",
      "3     1/15/2025 21:30:00          False      NaN         NaN    NaN  \n",
      "4      1/16/2025 2:30:00          False      NaN         NaN    NaN  \n",
      "...                  ...            ...      ...         ...    ...  \n",
      "1011                 NaN          False      NaN         NaN    NaN  \n",
      "1012                 NaN          False      NaN         NaN    NaN  \n",
      "1013                 NaN          False      NaN         NaN    NaN  \n",
      "1014                 NaN          False      NaN         NaN    NaN  \n",
      "1015                 NaN          False      NaN         NaN    NaN  \n",
      "\n",
      "[1016 rows x 8 columns]\n"
     ]
    }
   ],
   "source": [
    "import pandas as pd\n",
    "\n",
    "#Read CSV files\n",
    "\n",
    "data = pd.read_csv(\"001.csv\")\n",
    "\n",
    "print(data)\n",
    "\n",
    "#print(data.to_string())"
   ]
  },
  {
   "cell_type": "code",
   "execution_count": null,
   "metadata": {},
   "outputs": [],
   "source": [
    "import pandas as pd \n",
    "\n",
    "data = pd.read_csv(\"001.csv\")\n",
    "\n",
    "#In my system the number is 60, which means that if the DataFrame contains more than 60 rows, \n",
    "# the print(df) statement will return only the headers and the first and last 5 rows.\n",
    "print(pd.options.display.max_rows)\n",
    "\n",
    "pd.options.display.max_rows = 1000\n",
    "\n",
    "print(data)\n"
   ]
  },
  {
   "cell_type": "code",
   "execution_count": null,
   "metadata": {},
   "outputs": [],
   "source": [
    "import pandas as pd\n",
    "\n",
    "#Read Json data\n",
    "data = pd.read_json(\"data.json\")\n",
    "\n",
    "print(data.to_string())"
   ]
  },
  {
   "cell_type": "code",
   "execution_count": null,
   "metadata": {},
   "outputs": [],
   "source": [
    "import pandas as pd\n",
    "\n",
    "data = pd.read_json(\"data.json\")\n",
    "\n",
    "#Default Show first 5 rows\n",
    "#print(data.head())\n",
    "\n",
    "#Show First 7 Rows \n",
    "#print(data.head(7))\n",
    "\n",
    "#Show from Last\n",
    "#Last 5 data Default\n",
    "#print(data.tail())\n",
    "\n",
    "#Last 7 data\n",
    "#print(data.tail(7))\n",
    "\n",
    "#get info\n",
    "print(data.info())"
   ]
  },
  {
   "cell_type": "code",
   "execution_count": null,
   "metadata": {},
   "outputs": [
    {
     "name": "stdout",
     "output_type": "stream",
     "text": [
      "<bound method DataFrame.to_string of Empty DataFrame\n",
      "Columns: [Links, Status, Data, Due date, Content Done?, HashTags, Stage, Notes]\n",
      "Index: []>\n"
     ]
    }
   ],
   "source": [
    "import pandas as pd\n",
    "\n",
    "data = pd.read_csv(\"001.csv\")\n",
    "\n",
    "new = data.dropna()\n",
    "\n",
    "#Returns a new Data Frame with no empty cell\n",
    "print(new.to_string)"
   ]
  }
 ],
 "metadata": {
  "kernelspec": {
   "display_name": "Python 3",
   "language": "python",
   "name": "python3"
  },
  "language_info": {
   "codemirror_mode": {
    "name": "ipython",
    "version": 3
   },
   "file_extension": ".py",
   "mimetype": "text/x-python",
   "name": "python",
   "nbconvert_exporter": "python",
   "pygments_lexer": "ipython3",
   "version": "3.10.11"
  }
 },
 "nbformat": 4,
 "nbformat_minor": 2
}
